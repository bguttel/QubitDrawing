{
 "cells": [
  {
   "cell_type": "markdown",
   "metadata": {},
   "source": [
    "# Flux Qubits - Test Chip\n",
    "\n",
    "This code creates a GDS file containing eight flux qubits, four floating and four grounded, each one with a flux bias line and a readout/control resonator coupled to the same reflection feedline.\n",
    "In addition the chip has lithography marks and a label.\n",
    "\n",
    "It uses the package `QubitDrawing`, based on the package `gdspy` (documentaion here: https://gdspy.readthedocs.io/en/stable/index.html).\n",
    "The workflow in general is as follows:\n",
    "1. Set design parameters\n",
    "2. Create a Top gdspy cell\n",
    "3. Add elements to the Top cell\n",
    "    1. Call the right function in `QubitDrawing`\n",
    "    2. Add the returned cell to the Top cell\n",
    "    3. Save the returned cell's reference to add to Negative (metallization)\n",
    "4. Create label and lithography marks\n",
    "5. Add cells' references, label and lithography marks to Negative (metallization)\n",
    "6. Add Negative to Top cell\n",
    "7. Save GDS file"
   ]
  },
  {
   "cell_type": "code",
   "execution_count": 7,
   "metadata": {},
   "outputs": [],
   "source": [
    "# -*- coding: utf-8 -*-\n",
    "\"\"\"\n",
    "Created on Mar 2020\n",
    "\n",
    "@author: QUANTIC, Barcelona\n",
    "\"\"\"\n",
    "\n",
    "import gdspy as gds\n",
    "import numpy as np\n",
    "from QubitDrawing import SuppFunctions, qbdraw"
   ]
  },
  {
   "cell_type": "markdown",
   "metadata": {},
   "source": [
    "## Design Parameters\n",
    "\n",
    "The first paragraph contains the design parameters for the qubit itself. They are decided by exploration of the Hamiltonian, but are not used directly in the code (except of the Josephson junction area) and meant for archiving purposes only.\n",
    "\n",
    "The next paragrpahs are where the circuit parameters get in: lines width, capacitor length etc.\n",
    "Notice especially the \"Rotates\" parameter. This is a list containing False's and True's. Its length determines the number of qubits in the chip and its values determine the qubit's postion, above or below the feedline. "
   ]
  },
  {
   "cell_type": "code",
   "execution_count": 8,
   "metadata": {},
   "outputs": [
    {
     "data": {
      "text/plain": [
       "'---End of design parameters---'"
      ]
     },
     "execution_count": 8,
     "metadata": {},
     "output_type": "execute_result"
    }
   ],
   "source": [
    "\"\"\"\n",
    "This code is supposed to use the gdspy-based library QubitDrawingFunctions in order to build a gds file of a qubit-cicuit chip.\n",
    "Layer 2 is kept for the circuit shapes and layer 0 is the chip without them (boolean operator), i.e. the evaporated layer.\n",
    "Layer 5 is the eBeam layer, for qubit elements etc.\n",
    "\"\"\"\n",
    "\n",
    "'''Design Parameters'''\n",
    "CHIP_NAME = 'ExampleChip'\n",
    "chip_size = [5000,5000]  \n",
    "C_zeta = 21                     #[fF], shunting capacitance over the small Josephson junction\n",
    "MagneticFluxRange = [0.45,0.55] #[Phi_0]=[Magnetic flux quantum]\n",
    "JJarea = 0.09**2                #[μm^2], Josephson junction default area\n",
    "J_c = 9                         #[μA/μm^2], Josephson junction critical current\n",
    "C_j = 90*JJarea                 #[fF], Josephson junction total capacitance\n",
    "alpha = 0.365                   #Coefficient the fourth junction's area\n",
    "JJRelations = [1,1,1,np.sqrt(alpha)]     #Ratios between Josephson junctions' lengths in the qubit's loop\n",
    "JJparameters=     {'FingerWidth': np.sqrt(JJarea), #Dictionary with the Josephson junction parameters\n",
    "                   'FingerLength':  1,          #\n",
    "                   'TaperWidth': 0.45,             #\n",
    "                   'BridgeWidth': np.sqrt(JJarea)}\n",
    "FourJJloopLength = 10 #Length (and width, unless other specified) of the qubit's loop\n",
    "# FourJJloopWidth = 10 #Uncomment and specify for non-sqare loops\n",
    "\n",
    "#4JJ Qubits\n",
    "CapcitorWidth = 100\n",
    "#4JJ Grounded Qubits\n",
    "CapacitorLength = 500\n",
    "\n",
    "#General Circuit Settings\n",
    "FeedlineLength = 3750\n",
    "FeedlineWidth = 10 \n",
    "SpaceWidth = 5      #Space between feedline and grounding plane\n",
    "eBeamWidth = 2\n",
    "eBeamLayer = 5\n",
    "QubitSpacing = 4*SpaceWidth #Spacing between capacitor plates or qubit loop and the ground plane \n",
    "\n",
    "#Characteristic impedance and effective relative permittivity of feedline and resonators\n",
    "SubstrateEpsilon_r = 11.68   #Intrinsic Silicon\n",
    "SubstrateHeight = 500        #[μm]\n",
    "Z_0, epsilon_e = SuppFunctions.coplanar_waveguide(SubstrateEpsilon_r,SubstrateHeight,FeedlineWidth,SpaceWidth)\n",
    "\n",
    "#Resonators and qubits below and above the feedline, alternately.\n",
    "ResonatorsResonances=[]\n",
    "Elongations=[220.71794167942616,208.2762043523108,196.63715975597705,185.7255554469142,175.47526048991568,165.8279240597995,156.73186399711855,148.14114060458647]\n",
    "Rotates = [False,True,False,True,False,True,False,True]\n",
    "x_Origins = np.linspace(-1300,1400,len(Rotates))   #x origins of the resonators\n",
    "\n",
    "#Bias line\n",
    "BiaslineWidth = 2\n",
    "BiaslineSpaceWidth = 1 #Space between bias line and grounding plane\n",
    "BiaslineLength = 300\n",
    "TerminalWidth = 10 \n",
    "Tshape = False          #False for one-sided antenna (With half the terminal width)\n",
    "BiasDistance = (FourJJloopLength/2+QubitSpacing) #Distance of the antenna from the qubit cenetr [>=(FourJJloopLength/2+QubitSpacing)]\n",
    "BiasAsymmetry = -FourJJloopLength/2-1 #Bias line not aligned with qubit\n",
    "\n",
    "'''---End of design parameters---'''"
   ]
  },
  {
   "cell_type": "markdown",
   "metadata": {},
   "source": [
    "## Top Cell\n",
    "\n",
    "This cell is the only cell that will be saved in the final GDS file. The other cells will be represented as references in it, in hierarchical order."
   ]
  },
  {
   "cell_type": "code",
   "execution_count": 9,
   "metadata": {},
   "outputs": [],
   "source": [
    "# define Circuit cell and its negative\n",
    "Top = gds.Cell('TOP', exclude_from_current=True)"
   ]
  },
  {
   "cell_type": "markdown",
   "metadata": {},
   "source": [
    "## Feedline\n",
    "\n",
    "Call the right function and get a reflection feedline cell. Add the cell to the Top cell and save its reference at a certain point, named \"origin\". This reference will be added later to the Negative cell, which will be where metal is evaporized."
   ]
  },
  {
   "cell_type": "code",
   "execution_count": 10,
   "metadata": {},
   "outputs": [
    {
     "data": {
      "text/plain": [
       "<gdspy.library.Cell at 0x27bdda7dee8>"
      ]
     },
     "execution_count": 10,
     "metadata": {},
     "output_type": "execute_result"
    }
   ],
   "source": [
    "'''Feedline'''\n",
    "Feedline = qbdraw.DrawReflectionFeedline(FeedlineCellName= 'ReflectionFeedline', MainlineLength = FeedlineLength, LineWidth = FeedlineWidth, SpaceWidth=SpaceWidth)\n",
    "FeedlinePos = 250\n",
    "FeedlineReference = gds.CellReference(Feedline[0], origin=(0, FeedlinePos))\n",
    "Top.add(FeedlineReference)"
   ]
  },
  {
   "cell_type": "markdown",
   "metadata": {},
   "source": [
    "This is what the cell would look like:\n",
    "![ReflectionLine](ReflectionLine.PNG)"
   ]
  },
  {
   "cell_type": "markdown",
   "metadata": {},
   "source": [
    "## Resonators, Qubits and Bias Lines\n",
    "\n",
    "- Call the right function and get a resonator cell. Add the cell to the Top cell and save its reference at a certain point, named \"origin\". Notice that the origin change according to whether the resonator is below the feedline (Rotation=Flase) or above it (Rotation=True). This reference will be added later to the Negative cell, which will be where metal is evaporized.\n",
    "- Call the right function and get a qubit cell. Add the cell to the Top cell and save its reference at a certain point, named \"origin\". Notice that the origin change according to whether the resonator is below the feedline (Rotation=Flase) or above it (Rotation=True). This reference will be added later to the Negative cell, which will be where metal is evaporized. Notice also thath the function called is different since the qubits above the feedline are floating and the qubits below it are grounded.\n",
    "- Call the right function and get a biasline cell. Add the cell to the Top cell and save its reference at a certain point, named \"origin\". Notice that the origin change according to whether the resonator is below the feedline (Rotation=Flase) or above it (Rotation=True). This reference will be added later to the Negative cell, which will be where metal is evaporized. Notice also thath the function called is different since the qubits above the feedline are floating and the qubits below it are grounded."
   ]
  },
  {
   "cell_type": "code",
   "execution_count": 16,
   "metadata": {},
   "outputs": [],
   "source": [
    "'''Resonators, Qubits and Qubits Backgrounds'''\n",
    "QubitDistance = 1350 #Distance from feedline (adjusted manually).  \n",
    "ResonatorsReferences = []\n",
    "QubitsBackgroundsReferences = []\n",
    "BiaslinesReferences = []\n",
    "for i in range(len(Rotates)):\n",
    "    Resonator = qbdraw.DrawResonator(ResonatorCellName= 'Resonator_'+str(i), LineWidth = FeedlineWidth, SpaceWidth = SpaceWidth, num_meanders = 5, elongation = Elongations[i])\n",
    "    if Rotates[i]:\n",
    "        ResonatorReference = gds.CellReference(Resonator[0], origin=(x_Origins[i], FeedlinePos+SpaceWidth/2), rotation = 180)\n",
    "    else:\n",
    "        ResonatorReference = gds.CellReference(Resonator[0], origin=(x_Origins[i], FeedlinePos-SpaceWidth/2))\n",
    "    Top.add(ResonatorReference)\n",
    "    ResonatorsReferences.append(ResonatorReference)\n",
    "    \n",
    "    if Rotates[i]: #Floating qubit, above feedline\n",
    "        Qubit4JJ = qbdraw.DrawFourJJqubit('4JJqubit_'+str(i), Spacing=QubitSpacing, JJRelations =  JJRelations, JJparameters=JJparameters,\n",
    "                                     RectangleWidth=CapcitorWidth, FourJJloopLength=FourJJloopLength, LineWidth = eBeamWidth/2)\n",
    "        qubit_origin = Qubit4JJ[2] #floating qubit origin with respect to the center of the cell center\n",
    "        Qubit4JJReference = gds.CellReference(Qubit4JJ[0], origin=(x_Origins[i]-qubit_origin[0], FeedlinePos+QubitDistance-qubit_origin[1]), rotation = 180)  \n",
    "        QubitBackgroundReference = gds.CellReference(Qubit4JJ[1], origin=(x_Origins[i], FeedlinePos+QubitDistance), rotation = 180)\n",
    "    else:       #Grounded qubit, below feedline\n",
    "        Qubit4JJ = qbdraw.DrawFourJJgroundedQubit('4JJqubit_'+str(i), Spacing=QubitSpacing, JJRelations =  JJRelations, JJparameters=JJparameters,\n",
    "                                     RectangleWidth=CapcitorWidth, RectangleLength=CapacitorLength, FourJJloopLength=FourJJloopLength, LineWidth = eBeamWidth/2)\n",
    "        Qubit4JJReference = gds.CellReference(Qubit4JJ[0], origin=(x_Origins[i], FeedlinePos-QubitDistance-(CapacitorLength-CapcitorWidth)))   \n",
    "        QubitBackgroundReference = gds.CellReference(Qubit4JJ[1], origin=(x_Origins[i], FeedlinePos-QubitDistance-(CapacitorLength-CapcitorWidth)))\n",
    "    Top.add(Qubit4JJReference)\n",
    "    QubitsBackgroundsReferences.append(QubitBackgroundReference)\n",
    "    \n",
    "    if Rotates[i]:\n",
    "        Biasline = qbdraw.DrawBiasLine(BiaslineCellName = 'Biasline_'+str(i), BiaslineLength = BiaslineLength, LineWidth = BiaslineWidth,\n",
    "                                    SpaceWidth = BiaslineSpaceWidth, TerminalWidth=TerminalWidth, Tshape=Tshape, Rotation=-90, Galvanic=True)\n",
    "        BiaslineReference = gds.CellReference(Biasline[0], origin=(x_Origins[i]+45+BiasDistance, FeedlinePos+QubitDistance-BiasAsymmetry), rotation = -90)\n",
    "    else:\n",
    "        Biasline = qbdraw.DrawBiasLine(BiaslineCellName = 'Biasline_'+str(i), BiaslineLength = BiaslineLength, LineWidth = BiaslineWidth,\n",
    "                                    SpaceWidth = BiaslineSpaceWidth, TerminalWidth=TerminalWidth, Tshape=Tshape, Galvanic=True)\n",
    "        BiaslineReference = gds.CellReference(Biasline[0], origin=(x_Origins[i]-BiasAsymmetry/2, FeedlinePos-QubitDistance-(CapacitorLength-CapcitorWidth)-FourJJloopLength), rotation = 90)\n",
    "    Top.add(BiaslineReference)\n",
    "    BiaslinesReferences.append(BiaslineReference)\n",
    "  "
   ]
  },
  {
   "cell_type": "markdown",
   "metadata": {},
   "source": [
    "| With Resonators | With Qubits | With Bias Lines |\n",
    "| --- | --- | --- |\n",
    "| ![Resonators](ReflectionLine_Resonators.PNG) | ![Qubits](ReflectionLine_Resonators_Qubits.PNG) | ![Biaslines](ReflectionLine_Resonators_Qubits_Biaslines.PNG) |"
   ]
  },
  {
   "cell_type": "markdown",
   "metadata": {},
   "source": [
    "## Label and Lithography Marks\n",
    "\n",
    "In addition to the metal-evaporized circuit elements, whose references are to be added to the Negative cell, we add a label and lithography marks in the shape of crosses. "
   ]
  },
  {
   "cell_type": "code",
   "execution_count": 19,
   "metadata": {},
   "outputs": [
    {
     "data": {
      "text/plain": [
       "<gdspy.library.Cell at 0x27bdda7dee8>"
      ]
     },
     "execution_count": 19,
     "metadata": {},
     "output_type": "execute_result"
    }
   ],
   "source": [
    "'''Label'''\n",
    "label_position = (-chip_size[0]/2+400, -chip_size[1]/2+300)\n",
    "Label = gds.Text('FLUX QUBITS TEST\\nQUANTIC @ Glasgow', size = 100, position = label_position)\n",
    "rect = gds.Rectangle(tuple(Label.get_bounding_box()[0]-[50,50]),tuple(Label.get_bounding_box()[1]+[50,50])) #Added spacing between rectangle and text\n",
    "LabelNegative = gds.boolean(rect, Label, 'not')\n",
    "LabelNegative.rotate(np.pi/2)\n",
    "LabelNegative.translate(dx=-chip_size[0]+800,dy=-150)\n",
    "\n",
    "'''Lithography marks array'''\n",
    "crmk, mkar = qbdraw.CreateMarks(dx=chip_size[0]-300, dy=chip_size[1]-300)\n",
    "Top.add(mkar)"
   ]
  },
  {
   "cell_type": "markdown",
   "metadata": {},
   "source": [
    "## Negative\n",
    "\n",
    "This cell is what will be evetuallt metal-evaporized. It is called Negative since the cells whose references it contains are actually what will NOT be evaporized, i.e. the photolithography mask. It does that using a boolean \"not\" operation.\n",
    "Then the Negative is also added to the Top cell."
   ]
  },
  {
   "cell_type": "code",
   "execution_count": 20,
   "metadata": {},
   "outputs": [
    {
     "data": {
      "text/plain": [
       "<gdspy.library.Cell at 0x27bdda7dee8>"
      ]
     },
     "execution_count": 20,
     "metadata": {},
     "output_type": "execute_result"
    }
   ],
   "source": [
    "'''Negative (to be evaporated)'''\n",
    "wafer = gds.Rectangle((-chip_size[0]/2, -chip_size[1]/2), (chip_size[0]/2, chip_size[1]/2) , layer=0)\n",
    "Negative = gds.Cell('negative', exclude_from_current=True)\n",
    "Negative.add(gds.boolean(wafer, [FeedlineReference]+ResonatorsReferences+QubitsBackgroundsReferences+BiaslinesReferences+[LabelNegative], 'not')) \n",
    "# print(len(Negative.get_polygons()))\n",
    "Top.add(gds.CellReference(Negative, origin=(0, 0)))"
   ]
  },
  {
   "cell_type": "markdown",
   "metadata": {},
   "source": [
    "## Save Cell to GDS file\n",
    "\n",
    "Once all the cells are added to the Top cell, including the Negative cell, this cell can be saved into a GDS file."
   ]
  },
  {
   "cell_type": "code",
   "execution_count": 21,
   "metadata": {},
   "outputs": [],
   "source": [
    "qbdraw.saveCell2GDS([Top], CHIP_NAME)"
   ]
  },
  {
   "cell_type": "markdown",
   "metadata": {},
   "source": [
    "Finally the saved gds file we get is:\n",
    "![FullChip](FullChip.PNG) \n",
    "### Fin"
   ]
  }
 ],
 "metadata": {
  "kernelspec": {
   "display_name": "Python 3",
   "language": "python",
   "name": "python3"
  },
  "language_info": {
   "codemirror_mode": {
    "name": "ipython",
    "version": 3
   },
   "file_extension": ".py",
   "mimetype": "text/x-python",
   "name": "python",
   "nbconvert_exporter": "python",
   "pygments_lexer": "ipython3",
   "version": "3.7.6"
  }
 },
 "nbformat": 4,
 "nbformat_minor": 4
}
